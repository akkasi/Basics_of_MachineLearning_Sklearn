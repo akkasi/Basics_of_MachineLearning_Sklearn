{
 "cells": [
  {
   "cell_type": "markdown",
   "metadata": {},
   "source": [
    "#                        Uncertainity Estimation"
   ]
  },
  {
   "cell_type": "code",
   "execution_count": 1,
   "metadata": {},
   "outputs": [
    {
     "name": "stderr",
     "output_type": "stream",
     "text": [
      "/home/akkasi/Documents/software/anaconda3/lib/python3.6/importlib/_bootstrap.py:219: RuntimeWarning: numpy.dtype size changed, may indicate binary incompatibility. Expected 96, got 88\n",
      "  return f(*args, **kwds)\n",
      "/home/akkasi/Documents/software/anaconda3/lib/python3.6/importlib/_bootstrap.py:219: RuntimeWarning: numpy.dtype size changed, may indicate binary incompatibility. Expected 96, got 88\n",
      "  return f(*args, **kwds)\n",
      "/home/akkasi/Documents/software/anaconda3/lib/python3.6/importlib/_bootstrap.py:219: RuntimeWarning: numpy.dtype size changed, may indicate binary incompatibility. Expected 96, got 88\n",
      "  return f(*args, **kwds)\n",
      "/home/akkasi/Documents/software/anaconda3/lib/python3.6/importlib/_bootstrap.py:219: RuntimeWarning: numpy.dtype size changed, may indicate binary incompatibility. Expected 96, got 88\n",
      "  return f(*args, **kwds)\n"
     ]
    }
   ],
   "source": [
    "from sklearn.datasets import load_breast_cancer\n",
    "from sklearn.svm import SVC\n",
    "from sklearn.model_selection import train_test_split\n",
    "from sklearn.preprocessing import StandardScaler\n",
    "\n",
    "cancer = load_breast_cancer()\n",
    "x_train,x_test,y_train,y_test = train_test_split(cancer.data,cancer.target,random_state = 42)\n",
    "scaler = StandardScaler()"
   ]
  },
  {
   "cell_type": "code",
   "execution_count": 2,
   "metadata": {},
   "outputs": [],
   "source": [
    "x_train_scaled = scaler.fit(x_train).transform(x_train)\n",
    "x_test_scaled = scaler.fit(x_test).transform(x_test)"
   ]
  },
  {
   "cell_type": "code",
   "execution_count": 3,
   "metadata": {
    "scrolled": true
   },
   "outputs": [
    {
     "data": {
      "text/plain": [
       "SVC(C=1000, cache_size=200, class_weight=None, coef0=0.0,\n",
       "  decision_function_shape='ovr', degree=3, gamma='auto', kernel='poly',\n",
       "  max_iter=-1, probability=False, random_state=None, shrinking=True,\n",
       "  tol=0.001, verbose=False)"
      ]
     },
     "execution_count": 3,
     "metadata": {},
     "output_type": "execute_result"
    }
   ],
   "source": [
    "svm = SVC(C=1000,kernel='poly')\n",
    "svm.fit(x_train_scaled,y_train)"
   ]
  },
  {
   "cell_type": "code",
   "execution_count": 4,
   "metadata": {},
   "outputs": [
    {
     "name": "stdout",
     "output_type": "stream",
     "text": [
      "The decision function is:\n",
      "\n",
      "[  0.79837914 -19.05625696  -0.3204953    3.0404248    3.98571157\n",
      " -86.60979478 -60.59140696  -0.71898183   0.61885745   4.99692352\n",
      "   0.75548792  -1.20229015   5.8880878   -0.58618926   5.33650899\n",
      "  -4.27251068   6.61581301   7.97530045  20.04871449 -17.33196522]\n"
     ]
    }
   ],
   "source": [
    "print('The decision function is:\\n\\n{}'.format(svm.decision_function(x_test_scaled)\n",
    "                                              [:20]))"
   ]
  },
  {
   "cell_type": "code",
   "execution_count": 5,
   "metadata": {
    "scrolled": true
   },
   "outputs": [
    {
     "name": "stdout",
     "output_type": "stream",
     "text": [
      "Threshold decision function is:\n",
      "\n",
      "[ True False False  True  True False False False  True  True  True False\n",
      "  True False  True False  True  True  True False]\n"
     ]
    }
   ],
   "source": [
    "print('Threshold decision function is:\\n\\n{}'.format(svm.decision_function(x_test_scaled)\n",
    "                                              [:20]>0))"
   ]
  },
  {
   "cell_type": "markdown",
   "metadata": {},
   "source": [
    "# Predicting Probabilities"
   ]
  },
  {
   "cell_type": "code",
   "execution_count": 6,
   "metadata": {
    "scrolled": true
   },
   "outputs": [
    {
     "name": "stdout",
     "output_type": "stream",
     "text": [
      "Predicted probabilities for the samples (malignant and benign):\n",
      "\n",
      "[[-3.38947461e+00 -3.43082466e-02]\n",
      " [-2.00192949e-03 -6.21464462e+00]\n",
      " [-2.61009315e-03 -5.94967413e+00]\n",
      " [-1.70872446e+01 -3.79405802e-08]\n",
      " [-1.60527688e+01 -1.06750792e-07]\n",
      " [-5.27182165e-02 -2.96903753e+00]\n",
      " [-2.72803956e-02 -3.61519613e+00]\n",
      " [-4.05574573e-01 -1.09839340e+00]\n",
      " [-1.48971164e+00 -2.55457122e-01]\n",
      " [-4.86082995e+00 -7.77419495e-03]\n",
      " [-3.07709349e+00 -4.71891301e-02]\n",
      " [-6.97220866e-02 -2.69789663e+00]\n",
      " [-1.20757531e+01 -5.69597816e-06]\n",
      " [-7.50678883e-02 -2.62666155e+00]\n",
      " [-4.88875703e+00 -7.55927669e-03]\n",
      " [-4.14872333e-02 -3.20304143e+00]\n",
      " [-1.27626920e+01 -2.86572116e-06]\n",
      " [-1.35040832e+01 -1.36537354e-06]\n",
      " [-1.14536408e+01 -1.06108292e-05]\n",
      " [-2.59319089e-03 -5.95616247e+00]]\n"
     ]
    }
   ],
   "source": [
    "svm1 = SVC(C=1000,probability=True)\n",
    "svm1.fit(x_train_scaled,y_train)\n",
    "print('Predicted probabilities for the samples (malignant and benign):\\n\\n{}'.format(svm1.predict_log_proba(x_test_scaled)[:20]))"
   ]
  },
  {
   "cell_type": "code",
   "execution_count": 7,
   "metadata": {
    "scrolled": true
   },
   "outputs": [
    {
     "data": {
      "text/plain": [
       "array([1, 0, 0, 1, 1, 0, 0, 0, 1, 1, 1, 0, 1, 0, 1, 0, 1, 1, 1, 0, 1, 1,\n",
       "       0, 1, 1, 1, 1, 1, 1, 0, 1, 1, 1, 1, 1, 1, 0, 1, 0, 1, 1, 0, 1, 1,\n",
       "       0, 0, 1, 1, 1, 1, 0, 0, 1, 0, 1, 1, 1, 0, 0, 1, 1, 0, 0, 1, 1, 1,\n",
       "       0, 0, 1, 1, 0, 0, 1, 0, 1, 1, 1, 1, 1, 1, 0, 1, 0, 0, 0, 0, 0, 0,\n",
       "       1, 1, 1, 0, 1, 1, 1, 1, 0, 0, 1, 0, 0, 1, 0, 0, 1, 1, 1, 0, 1, 1,\n",
       "       0, 1, 1, 0, 0, 0, 1, 1, 1, 0, 1, 1, 1, 0, 1, 0, 0, 1, 1, 0, 0, 0,\n",
       "       1, 1, 1, 0, 1, 1, 1, 0, 1, 0, 1])"
      ]
     },
     "execution_count": 7,
     "metadata": {},
     "output_type": "execute_result"
    }
   ],
   "source": [
    "svm1.predict(x_test_scaled)"
   ]
  },
  {
   "cell_type": "markdown",
   "metadata": {},
   "source": [
    "## Uncertainity Estimation in Multiclass Datasets"
   ]
  },
  {
   "cell_type": "code",
   "execution_count": 8,
   "metadata": {},
   "outputs": [
    {
     "name": "stderr",
     "output_type": "stream",
     "text": [
      "/home/akkasi/.local/lib/python3.6/site-packages/sklearn/ensemble/weight_boosting.py:29: DeprecationWarning: numpy.core.umath_tests is an internal NumPy module and should not be imported. It will be removed in a future NumPy release.\n",
      "  from numpy.core.umath_tests import inner1d\n"
     ]
    },
    {
     "data": {
      "text/plain": [
       "GradientBoostingClassifier(criterion='friedman_mse', init=None,\n",
       "              learning_rate=0.01, loss='deviance', max_depth=3,\n",
       "              max_features=None, max_leaf_nodes=None,\n",
       "              min_impurity_decrease=0.0, min_impurity_split=None,\n",
       "              min_samples_leaf=1, min_samples_split=2,\n",
       "              min_weight_fraction_leaf=0.0, n_estimators=100,\n",
       "              presort='auto', random_state=0, subsample=1.0, verbose=0,\n",
       "              warm_start=False)"
      ]
     },
     "execution_count": 8,
     "metadata": {},
     "output_type": "execute_result"
    }
   ],
   "source": [
    "from sklearn.datasets import load_iris\n",
    "iris =load_iris()\n",
    "from sklearn.ensemble import GradientBoostingClassifier\n",
    "x_train,x_test,y_train,y_test = train_test_split(iris.data,iris.target,random_state=42)\n",
    "gbr = GradientBoostingClassifier(learning_rate=0.01,random_state=0)\n",
    "gbr.fit(x_train,y_train)"
   ]
  },
  {
   "cell_type": "code",
   "execution_count": 9,
   "metadata": {},
   "outputs": [
    {
     "name": "stdout",
     "output_type": "stream",
     "text": [
      "The decision function for the the 3-class iris dataset:\n",
      "\n",
      ":[[-0.52931069  1.46560359 -0.50448467]\n",
      " [ 1.51154215 -0.49561142 -0.50310736]\n",
      " [-0.52379401 -0.4676268   1.51953786]\n",
      " [-0.52931069  1.46560359 -0.50448467]\n",
      " [-0.53107259  1.28190451  0.21510024]\n",
      " [ 1.51154215 -0.49561142 -0.50310736]\n",
      " [-0.52931069  1.46560359 -0.50448467]\n",
      " [-0.53043817 -0.4676268   1.51953786]\n",
      " [-0.52931069  1.46560359 -0.50448467]\n",
      " [-0.52931069  1.46560359 -0.50448467]]\n"
     ]
    }
   ],
   "source": [
    "print('The decision function for the the 3-class iris dataset:\\n\\n:{}'.format(gbr.decision_function(x_test[:10])))"
   ]
  },
  {
   "cell_type": "code",
   "execution_count": 10,
   "metadata": {
    "scrolled": true
   },
   "outputs": [
    {
     "name": "stdout",
     "output_type": "stream",
     "text": [
      "predicted probabilities for the samples in the iris data sets:\n",
      "\n",
      "[[0.10664722 0.7840248  0.10932798]\n",
      " [0.78880668 0.10599243 0.10520089]\n",
      " [0.10231173 0.10822274 0.78946553]\n",
      " [0.10664722 0.7840248  0.10932798]\n",
      " [0.10825347 0.66344934 0.22829719]\n",
      " [0.78880668 0.10599243 0.10520089]\n",
      " [0.10664722 0.7840248  0.10932798]\n",
      " [0.10170311 0.10829611 0.79000078]\n",
      " [0.10664722 0.7840248  0.10932798]\n",
      " [0.10664722 0.7840248  0.10932798]]\n"
     ]
    }
   ],
   "source": [
    "print('predicted probabilities for the samples in the iris data sets:\\n\\n{}'.format(gbr.predict_proba(x_test[:10])))"
   ]
  },
  {
   "cell_type": "markdown",
   "metadata": {},
   "source": [
    "# Binarizarion , Mean Removal, Scalling, Nomalization"
   ]
  },
  {
   "cell_type": "code",
   "execution_count": 11,
   "metadata": {},
   "outputs": [
    {
     "name": "stdout",
     "output_type": "stream",
     "text": [
      "Binarized data:\n",
      "\n",
      " [[1. 1. 0.]\n",
      " [1. 0. 0.]\n",
      " [0. 1. 1.]]\n"
     ]
    }
   ],
   "source": [
    "from sklearn import preprocessing\n",
    "import numpy as np\n",
    "data = np.array([[2.2,5.9,-1.8],[5.4,-3.2,-5.1],[-1.9,4.2,3.3]])\n",
    "\n",
    "bindata = preprocessing.Binarizer(threshold=1.5).transform(data)\n",
    "print('Binarized data:\\n\\n',bindata)\n"
   ]
  },
  {
   "cell_type": "code",
   "execution_count": 12,
   "metadata": {},
   "outputs": [
    {
     "name": "stdout",
     "output_type": "stream",
     "text": [
      "Mean Before equals:  [ 1.9  2.3 -1.2]\n",
      "Standard Deviatio before is:  [2.98775278 3.95052739 3.45543051]\n"
     ]
    }
   ],
   "source": [
    "print('Mean Before equals: ', data.mean(axis=0))\n",
    "print('Standard Deviatio before is: ', data.std(axis=0))"
   ]
  },
  {
   "cell_type": "code",
   "execution_count": 13,
   "metadata": {},
   "outputs": [
    {
     "name": "stdout",
     "output_type": "stream",
     "text": [
      "Mean After equals:  [0. 0. 0.]\n",
      "Standard Deviatio After is:  [1. 1. 1.]\n"
     ]
    }
   ],
   "source": [
    "scaled_data = preprocessing.scale(data)\n",
    "print('Mean After equals: ', scaled_data.mean(axis=0))\n",
    "print('Standard Deviatio After is: ', scaled_data.std(axis=0))"
   ]
  },
  {
   "cell_type": "code",
   "execution_count": 14,
   "metadata": {},
   "outputs": [],
   "source": [
    "minmax_scaler = preprocessing.MinMaxScaler(feature_range=(0,1))\n"
   ]
  },
  {
   "cell_type": "code",
   "execution_count": 15,
   "metadata": {
    "scrolled": true
   },
   "outputs": [
    {
     "name": "stdout",
     "output_type": "stream",
     "text": [
      "Minmax applied on the data:\n",
      "\n",
      " [[0.56164384 1.         0.39285714]\n",
      " [1.         0.         0.        ]\n",
      " [0.         0.81318681 1.        ]]\n"
     ]
    }
   ],
   "source": [
    "scaled_data1 = minmax_scaler.fit_transform(data)\n",
    "print('Minmax applied on the data:\\n\\n', scaled_data1)"
   ]
  },
  {
   "cell_type": "code",
   "execution_count": 16,
   "metadata": {
    "scrolled": true
   },
   "outputs": [
    {
     "name": "stdout",
     "output_type": "stream",
     "text": [
      "L1 normalized data:\n",
      " [[ 0.22222222  0.5959596  -0.18181818]\n",
      " [ 0.39416058 -0.23357664 -0.37226277]\n",
      " [-0.20212766  0.44680851  0.35106383]]\n",
      "L2 normalized data:\n",
      " [[ 0.3359268   0.90089461 -0.2748492 ]\n",
      " [ 0.6676851  -0.39566524 -0.63059148]\n",
      " [-0.33514339  0.74084329  0.58209116]]\n"
     ]
    }
   ],
   "source": [
    "data_l1 = preprocessing.normalize(data,norm='l1')\n",
    "data_l2 = preprocessing.normalize(data,norm='l2')\n",
    "print('L1 normalized data:\\n',data_l1)\n",
    "print('L2 normalized data:\\n',data_l2)"
   ]
  },
  {
   "cell_type": "markdown",
   "metadata": {},
   "source": [
    "# Label Encoding"
   ]
  },
  {
   "cell_type": "code",
   "execution_count": 17,
   "metadata": {},
   "outputs": [
    {
     "name": "stdout",
     "output_type": "stream",
     "text": [
      "setossa -> 0\n",
      "versicolor -> 1\n",
      "virginica -> 2\n"
     ]
    }
   ],
   "source": [
    "labels = ['setossa','versicolor','virginica']\n",
    "encoder = preprocessing.LabelEncoder()\n",
    "encoder.fit(labels)\n",
    "for i, items in enumerate(encoder.classes_):\n",
    "    print(items,'->',i)"
   ]
  },
  {
   "cell_type": "code",
   "execution_count": 18,
   "metadata": {},
   "outputs": [],
   "source": [
    "more_labels = ['versicolor','versicolor','virginica','setossa','versicolor']"
   ]
  },
  {
   "cell_type": "code",
   "execution_count": 19,
   "metadata": {
    "scrolled": true
   },
   "outputs": [
    {
     "name": "stdout",
     "output_type": "stream",
     "text": [
      "More labels =  ['versicolor', 'versicolor', 'virginica', 'setossa', 'versicolor']\n",
      "More labels encoded = [1 1 2 0 1]\n"
     ]
    }
   ],
   "source": [
    "more_labels_encoded = encoder.transform(more_labels)\n",
    "print('More labels = ',more_labels)\n",
    "print('More labels encoded =',more_labels_encoded)"
   ]
  },
  {
   "cell_type": "markdown",
   "metadata": {},
   "source": [
    "# Feature Selection\n"
   ]
  },
  {
   "cell_type": "code",
   "execution_count": 22,
   "metadata": {},
   "outputs": [
    {
     "name": "stdout",
     "output_type": "stream",
     "text": [
      "x_train.shape is (284, 80)\n",
      "x_train_selected.shape is (284, 40)\n"
     ]
    },
    {
     "name": "stderr",
     "output_type": "stream",
     "text": [
      "/home/akkasi/Documents/software/anaconda3/lib/python3.6/site-packages/scipy/stats/stats.py:1713: FutureWarning: Using a non-tuple sequence for multidimensional indexing is deprecated; use `arr[tuple(seq)]` instead of `arr[seq]`. In the future this will be interpreted as an array index, `arr[np.array(seq)]`, which will result either in an error or a different result.\n",
      "  return np.add.reduce(sorted[indexer] * weights, axis=axis) / sumval\n"
     ]
    }
   ],
   "source": [
    "from sklearn.feature_selection import SelectPercentile\n",
    "\n",
    "cancer = load_breast_cancer()\n",
    "rng = np.random.RandomState(42)\n",
    "noise = rng.normal(size=(len(cancer.data),50))\n",
    "x_w_noise = np.hstack([cancer.data,noise])\n",
    "x_train,x_test,y_train,y_test = train_test_split(x_w_noise,cancer.target,\n",
    "                                                random_state =0,test_size =0.5)\n",
    "\n",
    "select = SelectPercentile(percentile=50)\n",
    "select.fit(x_train,y_train)\n",
    "x_train_selected = select.transform(x_train)\n",
    "\n",
    "print('x_train.shape is {}'.format(x_train.shape))\n",
    "print('x_train_selected.shape is {}'.format(x_train_selected.shape))"
   ]
  },
  {
   "cell_type": "code",
   "execution_count": 23,
   "metadata": {},
   "outputs": [],
   "source": [
    "import matplotlib.pyplot as plt"
   ]
  },
  {
   "cell_type": "code",
   "execution_count": 24,
   "metadata": {},
   "outputs": [
    {
     "name": "stdout",
     "output_type": "stream",
     "text": [
      "[ True  True  True  True  True  True  True  True  True False  True False\n",
      "  True  True  True  True  True  True False False  True  True  True  True\n",
      "  True  True  True  True  True  True False False False  True False  True\n",
      " False False  True False False False False  True False False  True False\n",
      " False  True False  True False False False False False False  True False\n",
      "  True False False False False  True False  True False False False False\n",
      "  True  True False  True False False False False]\n"
     ]
    },
    {
     "name": "stderr",
     "output_type": "stream",
     "text": [
      "/home/akkasi/Documents/software/anaconda3/lib/python3.6/site-packages/scipy/stats/stats.py:1713: FutureWarning: Using a non-tuple sequence for multidimensional indexing is deprecated; use `arr[tuple(seq)]` instead of `arr[seq]`. In the future this will be interpreted as an array index, `arr[np.array(seq)]`, which will result either in an error or a different result.\n",
      "  return np.add.reduce(sorted[indexer] * weights, axis=axis) / sumval\n"
     ]
    },
    {
     "data": {
      "text/plain": [
       "<matplotlib.image.AxesImage at 0x7f0355297320>"
      ]
     },
     "execution_count": 24,
     "metadata": {},
     "output_type": "execute_result"
    },
    {
     "data": {
      "image/png": "[encoded data removed]",
      "text/plain": [
       "<Figure size 1152x144 with 1 Axes>"
      ]
     },
     "metadata": {},
     "output_type": "display_data"
    }
   ],
   "source": [
    "mask = select.get_support()\n",
    "print(mask)\n",
    "plt.matshow(mask.reshape(1,-1),cmap='gray_r')"
   ]
  },
  {
   "cell_type": "code",
   "execution_count": 29,
   "metadata": {},
   "outputs": [],
   "source": [
    "from sklearn.feature_selection import SelectFromModel\n",
    "from sklearn.ensemble import RandomForestClassifier\n",
    "\n",
    "select = SelectFromModel(RandomForestClassifier(n_estimators=100,random_state=42),threshold='median')"
   ]
  },
  {
   "cell_type": "code",
   "execution_count": 31,
   "metadata": {},
   "outputs": [
    {
     "name": "stdout",
     "output_type": "stream",
     "text": [
      "The shape of x_train is: (284, 80)\n",
      "The shape of x_train_selected is: (284, 40)\n"
     ]
    }
   ],
   "source": [
    "select.fit(x_train,y_train)\n",
    "x_train_selected = select.transform(x_train)\n",
    "\n",
    "print('The shape of x_train is: {}'.format(x_train.shape))\n",
    "print('The shape of x_train_selected is: {}'.format(x_train_selected.shape))\n"
   ]
  },
  {
   "cell_type": "code",
   "execution_count": 33,
   "metadata": {
    "scrolled": true
   },
   "outputs": [
    {
     "data": {
      "text/plain": [
       "<matplotlib.image.AxesImage at 0x7f03550225c0>"
      ]
     },
     "execution_count": 33,
     "metadata": {},
     "output_type": "execute_result"
    },
    {
     "data": {
      "image/png": "[encoded data removed]",
      "text/plain": [
       "<Figure size 1152x144 with 1 Axes>"
      ]
     },
     "metadata": {},
     "output_type": "display_data"
    }
   ],
   "source": [
    "mask = select.get_support()\n",
    "plt.matshow(mask.reshape(1,-1),cmap='gray_r')"
   ]
  },
  {
   "cell_type": "code",
   "execution_count": 34,
   "metadata": {},
   "outputs": [],
   "source": [
    "x_test_selected = select.transform(x_test)\n"
   ]
  }
 ],
 "metadata": {
  "kernelspec": {
   "display_name": "Python 3",
   "language": "python",
   "name": "python3"
  },
  "language_info": {
   "codemirror_mode": {
    "name": "ipython",
    "version": 3
   },
   "file_extension": ".py",
   "mimetype": "text/x-python",
   "name": "python",
   "nbconvert_exporter": "python",
   "pygments_lexer": "ipython3",
   "version": "3.6.5"
  }
 },
 "nbformat": 4,
 "nbformat_minor": 2
}
